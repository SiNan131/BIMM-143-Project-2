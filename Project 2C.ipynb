{
 "cells": [
  {
   "cell_type": "markdown",
   "id": "40c2df05",
   "metadata": {},
   "source": [
    "# Scientific Question: How structurally similar are the active domain of murine coagulation FVIII and human coagulation FVIII in terms of its interaction with VWF?"
   ]
  },
  {
   "cell_type": "markdown",
   "id": "fc6202dd",
   "metadata": {},
   "source": [
    "Coagulation Factor VIII background: \n",
    "\n",
    "VWF:"
   ]
  },
  {
   "cell_type": "markdown",
   "id": "82f418d7",
   "metadata": {},
   "source": [
    "# Hypothesis: If murine coagulation FVIII is sequentially and structurally similar to human FVIII, then mouse model missing FVIII would have symptoms that are similar to human hemophila A patients."
   ]
  },
  {
   "cell_type": "markdown",
   "id": "059508ff",
   "metadata": {},
   "source": [
    "Multiple sequence alignment, Sequence logo to find the key different amino acid sequence between mouse and human to determine if the difference is significant. PDB reading to show the 3D structure of the protein. 3D protein measurement to determine the key domain (domains for interaction with VWF and key AA identified in literatures)\n",
    "Data source: NCBI(sequence), PDB(protein structure)"
   ]
  },
  {
   "cell_type": "markdown",
   "id": "806c7702",
   "metadata": {},
   "source": [
    "# Loading in Packages"
   ]
  },
  {
   "cell_type": "markdown",
   "id": "52c8bc03",
   "metadata": {},
   "source": [
    "Definition of Packages:\n",
    "logomaker: \n",
    "Bio:\n",
    "PDB:\n",
    "SeqIO:\n",
    "MafftCommandline:\n",
    "AlignIO:\n",
    "Mapplotlib.pyplot:\n",
    "Numpy:\n",
    "Seaborn:\n",
    "Pandas:\n",
    "Nglview:"
   ]
  },
  {
   "cell_type": "code",
   "execution_count": 1,
   "id": "0f8e3993",
   "metadata": {
    "collapsed": true
   },
   "outputs": [
    {
     "name": "stdout",
     "output_type": "stream",
     "text": [
      "Requirement already satisfied: logomaker in /Users/zhangminghao/opt/anaconda3/lib/python3.9/site-packages (0.8)\n",
      "Requirement already satisfied: pandas in /Users/zhangminghao/opt/anaconda3/lib/python3.9/site-packages (from logomaker) (1.3.4)\n",
      "Requirement already satisfied: numpy in /Users/zhangminghao/opt/anaconda3/lib/python3.9/site-packages (from logomaker) (1.20.3)\n",
      "Requirement already satisfied: matplotlib in /Users/zhangminghao/opt/anaconda3/lib/python3.9/site-packages (from logomaker) (3.4.3)\n",
      "Requirement already satisfied: pyparsing>=2.2.1 in /Users/zhangminghao/opt/anaconda3/lib/python3.9/site-packages (from matplotlib->logomaker) (3.0.4)\n",
      "Requirement already satisfied: pillow>=6.2.0 in /Users/zhangminghao/opt/anaconda3/lib/python3.9/site-packages (from matplotlib->logomaker) (8.4.0)\n",
      "Requirement already satisfied: python-dateutil>=2.7 in /Users/zhangminghao/opt/anaconda3/lib/python3.9/site-packages (from matplotlib->logomaker) (2.8.2)\n",
      "Requirement already satisfied: kiwisolver>=1.0.1 in /Users/zhangminghao/opt/anaconda3/lib/python3.9/site-packages (from matplotlib->logomaker) (1.3.1)\n",
      "Requirement already satisfied: cycler>=0.10 in /Users/zhangminghao/opt/anaconda3/lib/python3.9/site-packages (from matplotlib->logomaker) (0.10.0)\n",
      "Requirement already satisfied: six in /Users/zhangminghao/opt/anaconda3/lib/python3.9/site-packages (from cycler>=0.10->matplotlib->logomaker) (1.16.0)\n",
      "Requirement already satisfied: pytz>=2017.3 in /Users/zhangminghao/opt/anaconda3/lib/python3.9/site-packages (from pandas->logomaker) (2021.3)\n",
      "Note: you may need to restart the kernel to use updated packages.\n"
     ]
    }
   ],
   "source": [
    "pip install logomaker"
   ]
  },
  {
   "cell_type": "code",
   "execution_count": 3,
   "id": "d647a974",
   "metadata": {},
   "outputs": [
    {
     "name": "stderr",
     "output_type": "stream",
     "text": [
      "Fontconfig warning: ignoring UTF-8: not a valid region tag\n"
     ]
    },
    {
     "data": {
      "application/vnd.jupyter.widget-view+json": {
       "model_id": "70fc4f78c8e94287982f9ce6273e8bff",
       "version_major": 2,
       "version_minor": 0
      },
      "text/plain": []
     },
     "metadata": {},
     "output_type": "display_data"
    }
   ],
   "source": [
    "import Bio\n",
    "from Bio import SeqIO\n",
    "from Bio import PDB\n",
    "from Bio.pairwise2 import format_alignment\n",
    "from Bio.Align.Applications import MafftCommandline\n",
    "from Bio import AlignIO\n",
    "from Bio.PDB import *\n",
    "import logomaker as lm\n",
    "import matplotlib.pyplot as plt\n",
    "import numpy as np\n",
    "import seaborn as sns\n",
    "import pandas as pd\n",
    "import nglview as nv"
   ]
  },
  {
   "cell_type": "markdown",
   "id": "93acf3aa",
   "metadata": {},
   "source": [
    "# Bioinformatic Analysis"
   ]
  },
  {
   "cell_type": "code",
   "execution_count": 19,
   "id": "1db4a4a6",
   "metadata": {},
   "outputs": [
    {
     "name": "stdout",
     "output_type": "stream",
     "text": [
      "ID: EDL29229.1\n",
      "Name: EDL29229.1\n",
      "Description: EDL29229.1 coagulation factor VIII [Mus musculus]\n",
      "Number of features: 0\n",
      "Seq('MQIALFACFFLSLFNFCSSAIRRYYLGAVELSWNYIQSDLLSVLHTDSRFLPRM...QQY')\n",
      "ID: AAA52420.1\n",
      "Name: AAA52420.1\n",
      "Description: AAA52420.1 coagulation factor VIII [Homo sapiens]\n",
      "Number of features: 0\n",
      "Seq('MQIELSTCFFLCLLRFCFSATRRYYLGAVELSWDYMQSDLGELPVDARFPPRVP...DLY')\n",
      "ID: NP_001164742.1\n",
      "Name: NP_001164742.1\n",
      "Description: NP_001164742.1 coagulation factor VIII [Oryctolagus cuniculus]\n",
      "Number of features: 0\n",
      "Seq('MQIELSTCFFVCILQLSFSATRRYYLGAVELSWDYMHSDLLSELHVDTRSPPRM...QLY')\n",
      "ID: XP_011818598.1\n",
      "Name: XP_011818598.1\n",
      "Description: XP_011818598.1 PREDICTED: coagulation factor VIII [Colobus angolensis palliatus]\n",
      "Number of features: 0\n",
      "Seq('MQIELSTCFFLCLLRFCFSATRRYYLGAVELSWDYMQSDLGELPVDTRFPPRVP...ELY')\n"
     ]
    },
    {
     "data": {
      "image/png": "[encoded data removed]",
      "text/plain": [
       "<Figure size 432x288 with 1 Axes>"
      ]
     },
     "metadata": {
      "needs_background": "light"
     },
     "output_type": "display_data"
    },
    {
     "name": "stdout",
     "output_type": "stream",
     "text": [
      "mafft Four_seq.fasta\n",
      "['PPRVPRSFPFNTSVMYKKTVFVEFTDHLFNIAKPRPPWMGLLGPTIQAEVYDTVVITLKNMASHPVSLHAVGVSYWKASEGAEYDDQTSQREKEDDKVFP', 'PPRMPRSFPFNTSVIYKKTVFVEFTDQLFNIVKPRPPWMGLLGPTIWAEVHDTVVITLKNMASHPVSLHAVGVSYWKASEGAEYDDQTSQREKEDDKIFP', 'PPRVPKSFPFNTSVVYKKTLFVEFTDHLFNIAKPRPPWMGLLGPTIQAEVYDTVVITLKNMASHPVSLHAVGVSYWKASEGAEYDDQTSQREKEDDKVFP', 'LPRMSTSFPFNTSIMYKKTVFVEYKDQLFNIAKPRPPWMGLLGPTIWTEVHDTVVITLKNMASHPVSLHAVGVSYWKASEGDEYEDQTSQMEKEDDKVFP']\n"
     ]
    }
   ],
   "source": [
    "#Multiple Sequence Alignment\n",
    "#Read in Fasta files of coagulation factor VIII from 4 species\n",
    "Mouse_seq = SeqIO.read('Mouse_seq.fasta', 'fasta')\n",
    "Human_seq = SeqIO.read('Human_seq.fasta', 'fasta')\n",
    "Rabbit_seq = SeqIO.read('Rabbit_seq.fasta', 'fasta')\n",
    "Angola_seq = SeqIO.read('Angola_seq.fasta', 'fasta')\n",
    "#Check the read-in of sequences\n",
    "print(Mouse_seq)\n",
    "print(Human_seq)\n",
    "print(Rabbit_seq)\n",
    "print(Angola_seq)\n",
    "\n",
    "#Dot plot between mouse and human FVIII for better visualization \n",
    "seq_mouse = str(Mouse_seq.seq).upper()\n",
    "seq_human = str(Human_seq.seq).upper()\n",
    "window = 3\n",
    "data = [\n",
    "    [\n",
    "        (seq_mouse[i : i + window] != seq_human[j : j + window])\n",
    "        for j in range(len(seq_mouse) - window)\n",
    "    ]\n",
    "    for i in range(len(seq_human) - window)\n",
    "]\n",
    "plt.imshow(data, cmap='icefire_r')\n",
    "plt.xlabel(\"%s (length %i bp)\" % (Mouse_seq.id, len(Mouse_seq)))\n",
    "plt.ylabel(\"%s (length %i bp)\" % (Human_seq.id, len(Human_seq)))\n",
    "plt.title(\"Dot plot using window size %i\\n(allowing no mis-matches)\" % window)\n",
    "plt.show()\n",
    "\n",
    "#Mafft Multiple Sequence Alignment\n",
    "mafft_exe = \"/usr/local/bin/\"\n",
    "in_file = \"Four_seq.fasta\"\n",
    "mafft_cline = MafftCommandline(input=in_file)\n",
    "print(mafft_cline)\n",
    "stdout, stderr = mafft_cline()\n",
    "with open(\"aligned.fasta\", \"w\") as handle:\n",
    "    handle.write(stdout)\n",
    "align = AlignIO.read(\"aligned.fasta\", \"fasta\")\n",
    "\n",
    "#Function to extract sequence from multiple sequence alignment into a list of sequence\n",
    "Multi_seq = list()\n",
    "def Seq_extract(alignment, Multi_seq):\n",
    "    for align in alignment:\n",
    "        seq = align.seq[50:150]\n",
    "        seq_str = str(seq)\n",
    "        Multi_seq.append(seq_str)\n",
    "    return Multi_seq\n",
    "Seq_list = list()\n",
    "Seq_extract(align, Seq_list)\n",
    "print(Seq_list)"
   ]
  },
  {
   "cell_type": "code",
   "execution_count": 6,
   "id": "fec63cbb",
   "metadata": {},
   "outputs": [
    {
     "data": {
      "application/vnd.jupyter.widget-view+json": {
       "model_id": "b76051081b9e455c851ac84251572824",
       "version_major": 2,
       "version_minor": 0
      },
      "text/plain": [
       "NGLWidget()"
      ]
     },
     "metadata": {},
     "output_type": "display_data"
    }
   ],
   "source": [
    "#PDB reading\n",
    "#Human PDB 6mf2.1\n",
    "Human_FVIII_Parser = PDBParser()\n",
    "Human_structure = Human_FVIII_Parser.get_structure(\"Human_FVIII\", \"Human_FVIII.pdb\")\n",
    "#Show structures\n",
    "nv.show_biopython(Human_structure)"
   ]
  },
  {
   "cell_type": "code",
   "execution_count": 7,
   "id": "eaf3f32e",
   "metadata": {},
   "outputs": [
    {
     "data": {
      "application/vnd.jupyter.widget-view+json": {
       "model_id": "0856e14d02ce4ab5bde429ed1a9beb0c",
       "version_major": 2,
       "version_minor": 0
      },
      "text/plain": [
       "NGLWidget()"
      ]
     },
     "metadata": {},
     "output_type": "display_data"
    }
   ],
   "source": [
    "#Mouse PDB Homology modeling\n",
    "Mouse_FVIII_Parser = PDBParser()\n",
    "Mouse_structure = Mouse_FVIII_Parser.get_structure(\"Mouse_FVIII\", \"Mouse_FVIII.pdb\")\n",
    "nv.show_biopython(Mouse_structure)\n",
    "# There is no Mouse FVIII available on the PDB website and I used homology modeling in Swiss Protein to use \n",
    "# 6mf2.1 as the template to model the structure of mouse FVIII. The Seq Identity is 82.58% GMQE is 0.34"
   ]
  },
  {
   "cell_type": "code",
   "execution_count": 8,
   "id": "f3bfa639",
   "metadata": {},
   "outputs": [
    {
     "name": "stderr",
     "output_type": "stream",
     "text": [
      "/Users/zhangminghao/opt/anaconda3/lib/python3.9/site-packages/Bio/PDB/StructureBuilder.py:89: PDBConstructionWarning: WARNING: Chain A is discontinuous at line 16175.\n",
      "  warnings.warn(\n",
      "/Users/zhangminghao/opt/anaconda3/lib/python3.9/site-packages/Bio/PDB/StructureBuilder.py:89: PDBConstructionWarning: WARNING: Chain V is discontinuous at line 16206.\n",
      "  warnings.warn(\n"
     ]
    },
    {
     "data": {
      "application/vnd.jupyter.widget-view+json": {
       "model_id": "429dcb7d2d784bc4ac7ddba6d5dfbad5",
       "version_major": 2,
       "version_minor": 0
      },
      "text/plain": [
       "NGLWidget()"
      ]
     },
     "metadata": {},
     "output_type": "display_data"
    }
   ],
   "source": [
    "#Human FVIII interaction with VWF\n",
    "VWF_FVIII_Parser = PDBParser()\n",
    "VWF_FVIII_structure = VWF_FVIII_Parser.get_structure(\"VWF_FVIII\", \"VWF_FVIII.pdb\")\n",
    "nv.show_biopython(VWF_FVIII_structure)\n",
    "# Discontinuous is because this PDB file contasin two separate protein(VWF and FVIII) "
   ]
  },
  {
   "cell_type": "markdown",
   "id": "74870688",
   "metadata": {},
   "source": [
    "# Plotting the Results"
   ]
  },
  {
   "cell_type": "markdown",
   "id": "6c75026d",
   "metadata": {},
   "source": [
    "Sequence logo\n",
    "3D protein easurement"
   ]
  },
  {
   "cell_type": "code",
   "execution_count": 20,
   "id": "5fcef58e",
   "metadata": {},
   "outputs": [
    {
     "data": {
      "text/plain": [
       "<logomaker.src.Logo.Logo at 0x7fc1b4de7070>"
      ]
     },
     "execution_count": 20,
     "metadata": {},
     "output_type": "execute_result"
    },
    {
     "data": {
      "image/png": "[encoded data removed]",
      "text/plain": [
       "<Figure size 720x180 with 1 Axes>"
      ]
     },
     "metadata": {
      "needs_background": "light"
     },
     "output_type": "display_data"
    }
   ],
   "source": [
    "#Sequence Logo\n",
    "# create counts matrix\n",
    "Multi_counts_df = lm.alignment_to_matrix(sequences=Seq_list, to_type='counts', characters_to_ignore='.-X')\n",
    "# preview counts dataframe\n",
    "Multi_counts_df.head()\n",
    "# show full Multi counts\n",
    "lm.Logo(Multi_counts_df)"
   ]
  },
  {
   "cell_type": "code",
   "execution_count": 16,
   "id": "94c1d4f4",
   "metadata": {},
   "outputs": [],
   "source": []
  },
  {
   "cell_type": "code",
   "execution_count": 13,
   "id": "4dbeefac",
   "metadata": {},
   "outputs": [
    {
     "name": "stdout",
     "output_type": "stream",
     "text": [
      "Sequence: 1, Length: 19\n",
      "ATRRYYLGAVELSWDYMQS\n",
      "Sequence: 2, Length: 168\n",
      "SVVYKKTLFVEFTDHLFNIAKPRPPWMGLLGPTIQAEVYDTVVITLKNMASHPVSLHAVGVSYWKASEGAEYDDQTSQREKEDDKVFPGGSHTYVWQVLKENGPMASDPLCLTYSYLSHVDLVKDLNSGLIGALLVCREGSLAKEKTQTLHKFILLFAVFDEGKSWHS\n",
      "Sequence: 3, Length: 104\n",
      "WPKMHTVNGYVNRSLPGLIGCHRKSVYWHVIGMGTTPEVHSIFLEGHTFLVRNHRQASLEISPITFLTAQTLLMDLGQFLLFCHISSHQHDGMEAYVKVDSCPE\n",
      "Sequence: 4, Length: 180\n",
      "KHPKTWVHYIAAEEEDWDYAPLVLAPDDRSYKSQYLNNGPQRIGRKYKKVRFMAYTDETFKTREAIQHESGILGPLLYGEVGDTLLIIFKNQASRPYNIYPHGITDVRPLYSRRLPKGVKHLKDFPILPGEIFKYKWTVTVEDGPTKSDPRCLTRYYSSFVNMERDLASGLIGPLLICYK\n",
      "Sequence: 5, Length: 141\n",
      "RNVILFSVFDENRSWYLTENIQRFLPNPAGVQLEDPEFQASNIMHSINGYVFDSLQLSVCLHEVAYWYILSIGAQTDFLSVFFSGYTFKHKMVYEDTLTLFPFSGETVFMSMENPGLWILGCHNSDFRNRGMTALLKVSSC\n",
      "Sequence: 6, Length: 20\n",
      "KKTRHYFIAAVERLWDYGMS\n",
      "Sequence: 7, Length: 69\n",
      "VPQFKKVVFQEFTDGSFTQPLYRGELNEHLGLLGPYIRAEVEDNIMVTFRNQASRPYSFYSSLISYEED\n",
      "Sequence: 8, Length: 96\n",
      "PRKNFVKPNETKTYFWKVQHHMAPTKDEFDCKAWAYFSDVDLEKDVHSGLIGPLLVCHTNTLNPAHGRQVTVQEFALFFTIFDETKSWYFTENMER\n",
      "Sequence: 9, Length: 425\n",
      "EDPTFKENYRFHAINGYIMDTLPGLVMAQDQRIRWYLLSMGSNENIHSIHFSGHVFTVRKKEEYKMALYNLYPGVFETVEMLPSKAGIWRVECLIGEHLHAGMSTLFLVYSNKCQTPLGMASGHIRDFQITASGQYGQWAPKLARLHYSGSINAWSTKEPFSWIKVDLLAPMIIHGIKTQGARQKFSSLYISQFIIMYSLDGKKWQTYRGNSTGTLMVFFGNVDSSGIKHNIFNPPIIARYIRLHPTHYSIRSTLRMELMGCDLNSCSMPLGMESKAISDAQITASSYFTNMFATWSPSKARLHLQGRSNAWRPQVNNPKEWLQVDFQKTMKVTGVTTQGVKSLLTSMYVKEFLISSSQDGHQWTLFFQNGKVKVFQGNQDSFTPVVNSLDPPLLTRYLRIHPQSWVHQIALRMEVLGCEAQDLY\n"
     ]
    }
   ],
   "source": [
    "# 3D protein measurement\n",
    "# Extract polypeptide from Human FVIII model\n",
    "polypeptide_builder = CaPPBuilder()\n",
    "counter = 1\n",
    "for polypeptide in polypeptide_builder.build_peptides(Human_structure):\n",
    "    Human_seq = polypeptide.get_sequence()\n",
    "    print(f\"Sequence: {counter}, Length: {len(Human_seq)}\")\n",
    "    print(Human_seq)\n",
    "    counter += 1"
   ]
  },
  {
   "cell_type": "code",
   "execution_count": 14,
   "id": "1802135e",
   "metadata": {},
   "outputs": [
    {
     "name": "stdout",
     "output_type": "stream",
     "text": [
      "Sequence: 1, Length: 918\n",
      "AIRRYYLGAVELSWNYIQSDLLSVLHTDSRFLPRMSTSFPFNTSIMYKKTVFVEYKDQLFNIAKPRPPWMGLLGPTIWTEVHDTVVITLKNMASHPVSLHAVGVSYWKASEGDEYEDQTSQMEKEDDKVFPGESHTYVWQVLKENGPMASDPPCLTYSYMSHVDLVKDLNSGLIGALLVCKEGSLSKERTQMLYQFVLLFAVFDEGKSWHSETNDSYTQSMDSASARDWPKMHTVNGYVNRSLPGLIGCHRKSVYWHVIGMGTTPEIHSIFLEGHTFFVRNHRQASLEISPITFLTAQTLLIDLGQFLLFCHISSHKHDGMEAYVKVDSCPEESQWQKKNNNEEMEDYDDDLYSEMDMFTLDYDSSPFIQIRSVAKKYPKTWIHYISAEEEDWDYAPSVPTSDNGSYKSQYLSNGPHRIGRKYKKVRFIAYTDETFKTRETIQHESGLLGPLLYGEVGDTLLIIFKNQASRPYNIYPHGITDVSPLHARRLPRGIKHVKDLPIHPGEIFKYKWTVTVEDGPTKSDPRCLTRYYSSFINPERDLASGLIGPLLICYKESVDQRGNQMMSDKRNVILFSIFDENQSWYITENMQRFLPNAAKTQPQDPGFQASNIMHSINGYVFDSLELTVCLHEVAYWHILSVGAQTDFLSIFFSGYTFKHKMVYEDTLTLFPFSGETVFMSMENPGLWVLGCHNSDFRKRGMTALLKVSSCDKSTSDYYEEIYEDIPTQLVNENNVIDPRSFFQNTNHPNTRKKKFKDSTIPKNDMEKIEPQFEEIAEMLKVQSVSVSDMLMLLGQSHPTPHGLFLSDGQEAIYEAIHDDHSPNAIDSNEGPSKVTQLRPESHHSEKIVFTPQPGLQLRSNKSLETTIEVKWKKLGLQVSSLPSNLMTTTILSDNLKATFEKTDSSGFPDMPVHSSSK\n",
      "Sequence: 2, Length: 1381\n",
      "LSTTAFGKKAYSLVGSHVPLNVSEENSDSNILDSTLMYSQESLPRDNILSMENDRLLREKRFHGIALLTKDNTLFKDNVSLMKTNKTYNHSTTNEKLHTESPTSIENSTTDLQDAILKVNSEIQEVTALIHDGTLLGKNSTYLRLNHMLNRTTSTKNKDIFHRKDEDPIPQDEENTIMPFSKMLFLSESSNWFKKTNGNNSLNSEQEHSPKQLVYLMFKKYVKNQSFLSEKNKVTVEQDGFTKNIGLKDMAFPHNMSIFLTTLSNVHENGRHNQEKNIQEEIEKEALIEEKVVLPQVHEATGSKNFLKDILILGTRQNISLYEVHVPVLQNITSINNSTNTVQIHMEHFFKRRKDKETNSEGLVNKTREMVKNYPSQKNITTQRSKRALGQFRLSTQWLKTINCSTQCIIKQIDHSKEMKKFITKSSLSDSSVIKSTTQTNSSDSHIVKTSAFPPIDLKRSPFQNKFSHVQASSYIYDFKTKSSRIQESNNFLKETKINNPSLAILPWNMFIDQGKFTSPGKSNTNSVTYKKRENIIFLKPTLPEESGKIELLPQVSIQEEEILPTETSHGSPGHLNLMKEVFLQKIQGPTKWNKAKRHGESIKGKTESSKNTRSKLLNHHAWDYHYAAQIPKDMWKSKEKSPEIISIKQEDTILSLRPHGNSHSIGANEKQNWPQRETTWVKQGQTQRTCSQIPPVLKRHQRELSAFQSEQEATDYDDAITIETIEDFDIYSEDIKQGPRSFQQKTRHYFIAAVERLWDYGMSTSHVLRNRYQSDNVPQFKKVVFQEFTDGSFSQPLYRGELNEHLGLLGPYIRAEVEDNIMVTFKNQASRPYSFYSSLISYKEDQRGEEPRRNFVKPNETKIYFWKVQHHMAPTEDEFDCKAWAYFSDVDLERDMHSGLIGPLLICHANTLNPAHGRQVSVQEFALLFTIFDETKSWYFTENVKRNCKTPCNFQMEDPTLKENYRFHAINGYVMDTLPGLVMAQDQRIRWYLLSMGNNENIQSIHFSGHVFTVRKKEEYKMAVYNLYPGVFETLEMIPSRAGIWRVECLIGEHLQAGMSTLFLVYSKQCQIPLGMASGSIRDFQITASGHYGQWAPNLARLHYSGSINAWSTKEPFSWIKVDLLAPMIVHGIKTQGARQKFSSLYISQFIIMYSLDGKKWLSYQGNSTGTLMVFFGNVDSSGIKHNSFNPPIIARYIRLHPTHSSIRSTLRMELMGCDLNSCSIPLGMESKVISDTQITASSYFTNMFATWSPSQARLHLQGRTNAWRPQVNDPKQWLQVDLQKTMKVTGIITQGVKSLFTSMFVKEFLISSSQDGHHWTQILYNGKVKVFQGNQDSSTPMMNSLDPPLLTRYLRIHPQIWEHQIALRLEILGCEAQQQ\n"
     ]
    }
   ],
   "source": [
    "#Extract polypeptide from Human FVIII model\n",
    "polypeptide_builder = CaPPBuilder()\n",
    "counter = 1\n",
    "for polypeptide_1 in polypeptide_builder.build_peptides(Mouse_structure):\n",
    "    Mouse_seq = polypeptide_1.get_sequence()\n",
    "    print(f\"Sequence: {counter}, Length: {len(Mouse_seq)}\")\n",
    "    print(Mouse_seq)\n",
    "    counter += 1"
   ]
  },
  {
   "cell_type": "code",
   "execution_count": 15,
   "id": "f6635134",
   "metadata": {},
   "outputs": [
    {
     "name": "stdout",
     "output_type": "stream",
     "text": [
      "-0.23482352941176488\n",
      "-0.5979000724112971\n"
     ]
    }
   ],
   "source": [
    "# Conduct protein Analysis on Human and mouse FVIII\n",
    "Analyzed_Hum = ProteinAnalysis(str(Human_seq))\n",
    "Analyzed_Mou = ProteinAnalysis(str(Mouse_seq))\n",
    "# Get Gravy value for the Human sequence that is extracted from Human FVIII model\n",
    "# A higher value is more hydrophobic. A lower value is more hydrophilic.\n",
    "print(Analyzed_Hum.gravy())\n",
    "# Get Gravy value for the Human sequence that is extracted from Mouse FVIII model\n",
    "# A higher value is more hydrophobic. A lower value is more hydrophilic.\n",
    "print(Analyzed_Mou.gravy())"
   ]
  },
  {
   "cell_type": "code",
   "execution_count": 18,
   "id": "43e77241",
   "metadata": {},
   "outputs": [
    {
     "data": {
      "text/plain": [
       "(0.3247058823529412, 0.24941176470588236, 0.2188235294117647)"
      ]
     },
     "execution_count": 18,
     "metadata": {},
     "output_type": "execute_result"
    }
   ],
   "source": [
    "# Analyze the secondary structure fraction of human FVIII\n",
    "# helix, turn, sheet\n",
    "Analyzed_Hum.secondary_structure_fraction()"
   ]
  },
  {
   "cell_type": "code",
   "execution_count": 19,
   "id": "0c45e1ca",
   "metadata": {},
   "outputs": [
    {
     "data": {
      "text/plain": [
       "(0.2889210716871832, 0.2498189717595945, 0.21071687183200577)"
      ]
     },
     "execution_count": 19,
     "metadata": {},
     "output_type": "execute_result"
    }
   ],
   "source": [
    "# Analyze the secondary structure fraction of mouse FVIII\n",
    "# helix, turn, sheet\n",
    "Analyzed_Mou.secondary_structure_fraction()"
   ]
  },
  {
   "cell_type": "markdown",
   "id": "9c4ca0bc",
   "metadata": {},
   "source": [
    "# Analyzing the Results"
   ]
  },
  {
   "cell_type": "markdown",
   "id": "432f0ca3",
   "metadata": {},
   "source": [
    "The Sequence logo for now is not very illustrative since I am not focusing on the important domain for interacting with VWF (the AA sequence around Y1680). After doing so, I hope that the sequence logo can show the different AA compositions between those 4 species to see if mouse has different AAs (which is significant, if only mouse is different) in this region. If there are not many AAs significantly differently in this region, mouse and human FVIII are sequentially similar. By the PDB view of the two structures, the two domains that is mainly for interacting with VWF(shown in third 3D structure of the human FVIII and VWF interaction) are similar for human and mouse FVIII. For the 3D protein measurement, the fraction of secondary structure of both human and mouse FVIII are similar in terms of the Alpha helix, turn, and beta sheets. The simiar secondary structure between human and mouse FVIII can imply the structural similarlity. The GRAVY values for both human and mouse are similar, which means the hydrophobicity of these two proteins are similar. The hydrophobicity of proteins can affect the potential interactions between FVIII and VWF. Human and mouse FVIII possessing the similar hydrophobicity can imply similar interactions between VWF and FVIII. To sum up, human FVIII and mouse FVIII are structurally similary"
   ]
  }
 ],
 "metadata": {
  "kernelspec": {
   "display_name": "Python 3 (ipykernel)",
   "language": "python",
   "name": "python3"
  },
  "language_info": {
   "codemirror_mode": {
    "name": "ipython",
    "version": 3
   },
   "file_extension": ".py",
   "mimetype": "text/x-python",
   "name": "python",
   "nbconvert_exporter": "python",
   "pygments_lexer": "ipython3",
   "version": "3.9.7"
  }
 },
 "nbformat": 4,
 "nbformat_minor": 5
}
